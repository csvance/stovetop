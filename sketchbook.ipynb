{
 "cells": [
  {
   "cell_type": "code",
   "execution_count": 17,
   "metadata": {},
   "outputs": [
    {
     "name": "stdout",
     "output_type": "stream",
     "text": [
      "--Entire 8x8 Temperature Array--\n",
      "[[ 16.11751436   1.38575452  76.1652888   47.34787588  14.82698949\n",
      "   13.80356126  56.06855851  86.98649699]\n",
      " [ 91.28240676  32.30635772  95.00783054  49.38179774  92.37673532\n",
      "   58.60374506  19.50788769  12.17622448]\n",
      " [ 12.41070766   5.44110598  37.32122145  70.03193303  82.91992225\n",
      "   52.28727787  48.07612869  37.80444442]\n",
      " [  6.91434079  58.41150226  30.62362031  26.32634396  14.35551358\n",
      "   18.0067352   27.60118301  75.80960545]\n",
      " [ 35.23729751  88.46415791  75.76404506  51.57369293   4.13980232\n",
      "   70.0056911   76.68343793  28.29062735]\n",
      " [ 96.38236015  68.66891071  14.58894038  90.82484253  83.71782353\n",
      "   81.39557372  58.77378414  90.06860117]\n",
      " [ 51.26030319  47.42743048  71.68544745  67.09027261  92.35279172\n",
      "   47.24866702  46.36961248  95.81584372]\n",
      " [ 21.35292619  92.79366063  29.65256093  59.98636981  38.86612249\n",
      "   46.68805528  52.91704788  37.34288379]]\n"
     ]
    }
   ],
   "source": [
    "import numpy as np\n",
    "\n",
    "# Generate an 8x8 numpy array of random temperatures between 0 to 100\n",
    "temps = np.random.random((8, 8)) * 100\n",
    "\n",
    "# Print the temperatures\n",
    "print(\"--Entire 8x8 Temperature Array--\")\n",
    "print(temps)"
   ]
  },
  {
   "cell_type": "code",
   "execution_count": 16,
   "metadata": {},
   "outputs": [
    {
     "name": "stdout",
     "output_type": "stream",
     "text": [
      "Temperature (Row 1, Column 1): 15.168810\n"
     ]
    }
   ],
   "source": [
    "# Print a specific temperature \n",
    "\n",
    "ROW_NUMBER = 1\n",
    "COL_NUMBER = 1\n",
    "\n",
    "print(\"Temperature (Row %d, Column %d): %f\" % (ROW_NUMBER, COL_NUMBER, temps[ROW_NUMBER-1][COL_NUMBER-1]))"
   ]
  },
  {
   "cell_type": "code",
   "execution_count": 18,
   "metadata": {},
   "outputs": [
    {
     "name": "stdout",
     "output_type": "stream",
     "text": [
      "--Row 1--\n",
      "Column 0: 16.117514\n",
      "Column 1: 1.385755\n",
      "Column 2: 76.165289\n",
      "Column 3: 47.347876\n",
      "Column 4: 14.826989\n",
      "Column 5: 13.803561\n",
      "Column 6: 56.068559\n",
      "Column 7: 86.986497\n"
     ]
    }
   ],
   "source": [
    "# Print a row\n",
    "ROW_NUMBER = 1\n",
    "\n",
    "print(\"--Row %d--\" % ROW_NUMBER)\n",
    "for temp_idx, temp in enumerate(temps[ROW_NUMBER-1]):\n",
    "    print(\"Column %d: %f\" % (temp_idx, temp))"
   ]
  },
  {
   "cell_type": "code",
   "execution_count": 19,
   "metadata": {},
   "outputs": [
    {
     "name": "stdout",
     "output_type": "stream",
     "text": [
      "Average Temperature: 51.267441\n"
     ]
    }
   ],
   "source": [
    "# Print the average\n",
    "print(\"Average Temperature: %f\" % np.mean(temps))"
   ]
  },
  {
   "cell_type": "code",
   "execution_count": 26,
   "metadata": {},
   "outputs": [
    {
     "name": "stdout",
     "output_type": "stream",
     "text": [
      "Average Temperature (Row 1): 39.087755\n"
     ]
    }
   ],
   "source": [
    "# Print the average of a row\n",
    "\n",
    "ROW_NUMBER = 1 \n",
    "\n",
    "print(\"Average Temperature (Row %d): %f\" % (ROW_NUMBER, np.mean(temps[ROW_NUMBER-1])))"
   ]
  },
  {
   "cell_type": "code",
   "execution_count": 25,
   "metadata": {},
   "outputs": [
    {
     "name": "stdout",
     "output_type": "stream",
     "text": [
      "Median Temperature: 50.321050\n"
     ]
    }
   ],
   "source": [
    "# Print the median temperature\n",
    "print(\"Median Temperature: %f\" % np.median(temps))"
   ]
  },
  {
   "cell_type": "code",
   "execution_count": 28,
   "metadata": {},
   "outputs": [
    {
     "name": "stdout",
     "output_type": "stream",
     "text": [
      "Median Temperature (Col 1): 28.295112\n"
     ]
    }
   ],
   "source": [
    "# Print the median temperature of a column\n",
    "\n",
    "COL_NUMBER = 1\n",
    "\n",
    "print(\"Median Temperature (Col %d): %f\" % (COL_NUMBER, np.median(temps[:,COL_NUMBER-1])))"
   ]
  }
 ],
 "metadata": {
  "kernelspec": {
   "display_name": "Python 3",
   "language": "python",
   "name": "python3"
  },
  "language_info": {
   "codemirror_mode": {
    "name": "ipython",
    "version": 3
   },
   "file_extension": ".py",
   "mimetype": "text/x-python",
   "name": "python",
   "nbconvert_exporter": "python",
   "pygments_lexer": "ipython3",
   "version": "3.6.3"
  }
 },
 "nbformat": 4,
 "nbformat_minor": 2
}
